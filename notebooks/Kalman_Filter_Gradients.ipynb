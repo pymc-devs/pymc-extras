{
 "cells": [
  {
   "cell_type": "markdown",
   "id": "69ae14a1",
   "metadata": {},
   "source": [
    "### Imports"
   ]
  },
  {
   "cell_type": "code",
   "execution_count": 127,
   "id": "90979a41",
   "metadata": {},
   "outputs": [],
   "source": [
    "import numpy as np\n",
    "import pandas as pd\n",
    "import pytensor\n",
    "import pytensor.tensor as pt\n",
    "import matplotlib.pyplot as plt\n",
    "from pytensor.compile.builders import OpFromGraph\n",
    "from time import perf_counter\n",
    "from collections import defaultdict"
   ]
  },
  {
   "cell_type": "markdown",
   "id": "a0d008fc",
   "metadata": {},
   "source": [
    "### Generate dataset"
   ]
  },
  {
   "cell_type": "code",
   "execution_count": 128,
   "id": "f75a72e8",
   "metadata": {},
   "outputs": [],
   "source": [
    "def generate_kalman_dataset(n, N=100, seed=0):\n",
    "    rng = np.random.default_rng(seed)\n",
    "\n",
    "    # 0. Initial state and cov\n",
    "    A0 = rng.normal(loc=0.0, scale=1.0, size=(n,))\n",
    "    # 3. Random process noise covariance Q (PSD)\n",
    "    P0_base = rng.normal(0, 1, size=(n, n))\n",
    "    P0 = P0_base @ P0_base.T + np.eye(n) * 1e-3  # ensure positive definite\n",
    "\n",
    "    # 1. T stable random transition matrix T\n",
    "    T = rng.normal(0, 1, size=(n, n))\n",
    "    eigvals = np.linalg.eigvals(T)\n",
    "    spectral_radius = max(abs(eigvals))\n",
    "    T = T / (1.1 * spectral_radius)  # shrink to ensure stability\n",
    "\n",
    "    # 2. Random observation matrix Z\n",
    "    Z = rng.normal(0, 1, size=(n, n))  # full observations (m = n)\n",
    "\n",
    "    # 3. Random process noise covariance Q (PSD)\n",
    "    Q_base = rng.normal(0, 1, size=(n, n))\n",
    "    Q = Q_base @ Q_base.T + np.eye(n) * 1e-3  # ensure positive definite\n",
    "\n",
    "    # 4. Random observation noise covariance H (PSD)\n",
    "    H_base = rng.normal(0, 1, size=(n, n))\n",
    "    H = H_base @ H_base.T + np.eye(n) * 1e-3\n",
    "\n",
    "    # 5. Initial state\n",
    "    x = np.zeros((N, n))\n",
    "    y = np.zeros((N, n))\n",
    "    x[0] = A0\n",
    "\n",
    "    # 6. Simulate the system\n",
    "    for t in range(1, N):\n",
    "        w_t = rng.multivariate_normal(mean=np.zeros(n), cov=Q)\n",
    "        x[t] = T @ x[t-1] + w_t\n",
    "\n",
    "    for t in range(N):\n",
    "        v_t = rng.multivariate_normal(mean=np.zeros(n), cov=H)\n",
    "        y[t] = Z @ x[t] + v_t\n",
    "\n",
    "    return {\n",
    "        \"T\": T, \"Z\": Z, \"Q\": Q, \"H\": H,\n",
    "        \"x\": x, \"y\": y, \"A0\": A0, \"P0\": P0\n",
    "    }"
   ]
  },
  {
   "cell_type": "markdown",
   "id": "51b7e885",
   "metadata": {},
   "source": [
    "### Symbolic variable"
   ]
  },
  {
   "cell_type": "code",
   "execution_count": 129,
   "id": "3661408d",
   "metadata": {},
   "outputs": [],
   "source": [
    "# Paramètres symboliques\n",
    "A_sym = pt.matrix(\"A\")         # (n, n)\n",
    "H_sym = pt.matrix(\"H\")         # (n, n)\n",
    "Q_sym = pt.matrix(\"Q\")         # (n, n)\n",
    "R_sym = pt.matrix(\"R\")         # (n, n)\n",
    "T_sym = pt.matrix(\"T\")         # (n, n)\n",
    "Z_sym = pt.matrix(\"Z\")         # (n, n)\n",
    "\n",
    "x0_sym = pt.vector(\"x0\")       # (n,)\n",
    "y_sym = pt.matrix(\"y\")         # (T, n) : observations\n",
    "\n",
    "a0_sym = pt.vector(\"a0\")        \n",
    "P0_sym = pt.matrix(\"P0\") \n",
    "\n",
    "data_sym = pt.matrix('data_sym')    # [T, obs_dim]"
   ]
  },
  {
   "cell_type": "markdown",
   "id": "19e6a32d",
   "metadata": {},
   "source": [
    "### Kalman filter with classic gradient"
   ]
  },
  {
   "cell_type": "code",
   "execution_count": 130,
   "id": "35351096",
   "metadata": {},
   "outputs": [],
   "source": [
    "def predict(a, P, T, Q):\n",
    "    a_hat = T @ a                               # x_n|n-1\n",
    "    P_hat = T @ P @ T.T + Q                     # P_n|n-1\n",
    "    return a_hat, P_hat\n",
    "\n",
    "def update(y, a, P, Z, H):\n",
    "    v = y - Z.dot(a)                            # z_n\n",
    "    PZT = P.dot(Z.T)                            \n",
    "\n",
    "    F = Z.dot(PZT) + H                          # S_n\n",
    "    F_inv = pt.linalg.inv(F)                    # S_n^(-1)\n",
    "    K = PZT.dot(F_inv)                          # K_n\n",
    "\n",
    "    I_KZ = pt.eye(a.shape[0]) - K.dot(Z)\n",
    "    a_filtered = a + K.dot(v)                   # x_n|n\n",
    "    P_filtered = I_KZ @ P                       # P_n|n\n",
    "\n",
    "    inner_term = v.T @ F_inv @ v\n",
    "    _, F_logdet = pt.linalg.slogdet(F)          # log det S_n\n",
    "    ll = (F_logdet + inner_term).ravel()[0]     # Loss\n",
    "\n",
    "    return [a_filtered, P_filtered, Z.dot(a), F, ll]\n",
    "\n",
    "def kalman_step(y, a, P, T, Z, H, Q):\n",
    "    a_filtered, P_filtered, obs_mu, obs_cov, ll = update(y=y, a=a, P=P, Z=Z, H=H)\n",
    "    a_hat, P_hat = predict(a=a_filtered, P=P_filtered, T=T, Q=Q)\n",
    "    return [a_filtered, a_hat, obs_mu, P_filtered, P_hat, obs_cov, ll]\n",
    "\n",
    "\n",
    "outputs_info = [None, a0_sym, None, None, P0_sym, None, None]\n",
    "\n",
    "results_seq, updates = pytensor.scan(\n",
    "    kalman_step,\n",
    "    sequences=[data_sym],\n",
    "    outputs_info=outputs_info,\n",
    "    non_sequences=[T_sym, Z_sym, H_sym, Q_sym],\n",
    "    strict=False,\n",
    ")\n",
    "# --- Loss ---\n",
    "a_upd_seq, a_pred_seq, y_hat_seq, P_upd_seq, P_pred_seq, obs_cov, ll_seq = results_seq\n",
    "loss = pt.sum(ll_seq)"
   ]
  },
  {
   "cell_type": "markdown",
   "id": "ece2f47e",
   "metadata": {},
   "source": [
    "### Custom gradient"
   ]
  },
  {
   "cell_type": "code",
   "execution_count": 131,
   "id": "afb362e5",
   "metadata": {},
   "outputs": [],
   "source": [
    "def custom_grad(inp, out, out_grad):\n",
    "    y, a, P, T, Z, H, Q = inp\n",
    "    a_filtered, P_filtered, y_hat = out\n",
    "    a_hat_grad, P_hat_grad, y_grad = out_grad\n",
    "\n",
    "    PZT = P.dot(Z.T)\n",
    "    F = Z.dot(PZT) + H\n",
    "\n",
    "    y_hat = Z.dot(a)\n",
    "    v = y - y_hat\n",
    "\n",
    "    H_inv = pt.linalg.inv(H)\n",
    "    F_inv = pt.linalg.inv(F)\n",
    "\n",
    "    K = PZT.dot(F_inv)\n",
    "    I_KZ = pt.eye(a.shape[0]) - K.dot(Z)\n",
    "    \n",
    "    grad_a_pred = I_KZ.T @ T.T @ a_hat_grad - 2 * Z.T @ F_inv @ v\n",
    "    grad_y = K.T @ T.T @ a_hat_grad + 2 * F_inv @ v\n",
    "\n",
    "\n",
    "    a_hat_grad = a_hat_grad.dimshuffle(0, 'x')\n",
    "    v = v.dimshuffle(0, 'x')\n",
    "    \n",
    "    P_filtered_grad = T.T @ P_hat_grad @ T\n",
    "    a_filtered_grad = T.T @ a_hat_grad  \n",
    "\n",
    "    grad_P_hat = I_KZ.T @ ( P_filtered_grad + 0.5 * a_filtered_grad @ v.T @ H_inv @ Z + 0.5 * Z.T @ H_inv @ v @ a_filtered_grad.T ) @ I_KZ + Z.T @ F_inv @ Z - Z.T @ F_inv @ v @ v.T @ F_inv @ Z\n",
    "    grad_Z = None\n",
    "    grad_T = None\n",
    "    grad_Q = P_hat_grad\n",
    "    grad_H = K.T @ P_filtered_grad @ K - 0.5 * K.T @ a_filtered_grad @ v.T @ F_inv - 0.5 *  F_inv @ v @ a_filtered_grad.T @ K + F_inv - F_inv @ v @ v.T @ F_inv\n",
    "\n",
    "    return [grad_P_hat,\n",
    "            grad_a_pred,\n",
    "            grad_y,\n",
    "            grad_Z,\n",
    "            grad_T,\n",
    "            grad_Q,\n",
    "            grad_H]\n"
   ]
  },
  {
   "cell_type": "code",
   "execution_count": 132,
   "id": "ee21ef4e",
   "metadata": {},
   "outputs": [],
   "source": [
    "def grad_a_hat(inp, out, out_grad):\n",
    "    y, a, P, T, Z, H, Q = inp\n",
    "    a_hat_grad, _, _ = out_grad\n",
    "\n",
    "    v = y - Z.dot(a)                          \n",
    "\n",
    "    PZT = P.dot(Z.T)\n",
    "    F = Z.dot(PZT) + H                          \n",
    "    F_inv = pt.linalg.inv(F)\n",
    "    \n",
    "    K = PZT.dot(F_inv)                          \n",
    "    I_KZ = pt.eye(a.shape[0]) - K.dot(Z)\n",
    "\n",
    "    grad_a_pred = I_KZ.T @ T.T @ a_hat_grad - 2 * Z.T @ F_inv @ v\n",
    "\n",
    "    return grad_a_pred"
   ]
  },
  {
   "cell_type": "code",
   "execution_count": 133,
   "id": "8c89b018",
   "metadata": {},
   "outputs": [],
   "source": [
    "def grad_P_hat(inp, out, out_grad):\n",
    "    y, a, P, T, Z, H, Q = inp\n",
    "    a_hat_grad, P_hat_grad, ll_grad = out_grad\n",
    "\n",
    "    v = y - Z.dot(a)\n",
    "    v = v.dimshuffle(0, 'x')\n",
    "    a_hat_grad = a_hat_grad.dimshuffle(0, 'x') \n",
    "\n",
    "    P_filtered_grad = T.T @ P_hat_grad @ T\n",
    "    a_filtered_grad = T.T @ a_hat_grad                     \n",
    "\n",
    "    PZT = P.dot(Z.T)\n",
    "    F = Z.dot(PZT) + H\n",
    "\n",
    "    H_inv = pt.linalg.inv(H)                         \n",
    "    F_inv = pt.linalg.inv(F)\n",
    "    \n",
    "    K = PZT.dot(F_inv)                          \n",
    "    I_KZ = pt.eye(a.shape[0]) - K.dot(Z)\n",
    "\n",
    "    grad_P_hat = I_KZ.T @ ( P_filtered_grad + 0.5 * a_filtered_grad @ v.T @ H_inv @ Z + 0.5 * Z.T @ H_inv @ v @ a_filtered_grad.T ) @ I_KZ + Z.T @ F_inv @ Z - Z.T @ F_inv @ v @ v.T @ F_inv @ Z\n",
    "\n",
    "    return grad_P_hat"
   ]
  },
  {
   "cell_type": "code",
   "execution_count": 134,
   "id": "bba53a26",
   "metadata": {},
   "outputs": [],
   "source": [
    "def grad_y(inp, out, out_grad):\n",
    "    y, a, P, T, Z, H, Q = inp\n",
    "    a_hat_grad, P_h_grad, y_grad = out_grad\n",
    "\n",
    "    y_hat = Z.dot(a)\n",
    "    v = y - y_hat\n",
    "\n",
    "    PZT = P.dot(Z.T)\n",
    "    F = Z.dot(PZT) + H\n",
    "    F_inv = pt.linalg.inv(F)\n",
    "\n",
    "    K = PZT.dot(F_inv) \n",
    "    \n",
    "    return K.T @ T.T @ a_hat_grad + 2 * F_inv @ v"
   ]
  },
  {
   "cell_type": "code",
   "execution_count": 11,
   "id": "c17949b7",
   "metadata": {},
   "outputs": [],
   "source": [
    "def grad_Q(inp, out, out_grad):\n",
    "    _, P_h_grad, _ = out_grad\n",
    "    return P_h_grad"
   ]
  },
  {
   "cell_type": "code",
   "execution_count": 135,
   "id": "84cb6867",
   "metadata": {},
   "outputs": [],
   "source": [
    "def grad_H(inp, out, out_grad):\n",
    "    y, a, P, T, Z, H, Q = inp\n",
    "    a_hat_grad, P_h_grad, y_grad = out_grad\n",
    "    \n",
    "    y_hat = Z.dot(a)\n",
    "    v = y - y_hat\n",
    "\n",
    "    PZT = P.dot(Z.T)\n",
    "    F = Z.dot(PZT) + H\n",
    "    F_inv = pt.linalg.inv(F)\n",
    "\n",
    "    K = PZT.dot(F_inv)\n",
    "\n",
    "    v = v.dimshuffle(0, 'x')\n",
    "    a_hat_grad = a_hat_grad.dimshuffle(0, 'x') \n",
    "\n",
    "    a_filtered_grad = T.T @ a_hat_grad\n",
    "    P_filtered_grad = T.T @ P_h_grad @ T\n",
    "\n",
    "    return K.T @ P_filtered_grad @ K - 0.5 * K.T @ a_filtered_grad @ v.T @ F_inv - 0.5 *  F_inv @ v @ a_filtered_grad.T @ K + F_inv - F_inv @ v @ v.T @ F_inv"
   ]
  },
  {
   "cell_type": "markdown",
   "id": "607753a1",
   "metadata": {},
   "source": [
    "### Custom Kalman Filter"
   ]
  },
  {
   "cell_type": "code",
   "execution_count": 136,
   "id": "7cead2c1",
   "metadata": {},
   "outputs": [],
   "source": [
    "y_sym = pt.vector(\"y\")\n",
    "\n",
    "kalman_step_op = OpFromGraph(\n",
    "    inputs=[y_sym, a0_sym, P0_sym, T_sym, Z_sym, H_sym, Q_sym],\n",
    "    outputs=kalman_step(y_sym, a0_sym, P0_sym, T_sym, Z_sym, H_sym, Q_sym),\n",
    "    lop_overrides=[grad_y, grad_a_hat, grad_P_hat, None, None, grad_H, grad_Q],\n",
    "    inline=True\n",
    ")\n",
    "\n",
    "outputs_info = [None, a0_sym, None, None, P0_sym, None, None]\n",
    "\n",
    "results_op, updates = pytensor.scan(\n",
    "    kalman_step_op,\n",
    "    sequences=[data_sym],\n",
    "    outputs_info=outputs_info,\n",
    "    non_sequences=[T_sym, Z_sym, H_sym, Q_sym],\n",
    "    strict=False,\n",
    ")\n",
    "# --- Loss ---\n",
    "a_upd_op, a_pred_op, y_hat_op, P_upd_op, P_pred_op, obs_cov, ll_op = results_op\n",
    "loss_op = pt.sum(ll_op)"
   ]
  },
  {
   "cell_type": "markdown",
   "id": "f0575c2c",
   "metadata": {},
   "source": [
    "### Speed observation"
   ]
  },
  {
   "cell_type": "code",
   "execution_count": 137,
   "id": "07c3879e",
   "metadata": {},
   "outputs": [],
   "source": [
    "states = [1, 5, 10, 20, 35, 50, 75, 90, 100]"
   ]
  },
  {
   "cell_type": "code",
   "execution_count": 140,
   "id": "f90f682d",
   "metadata": {},
   "outputs": [],
   "source": [
    "def benchmark_kalman_gradients(loss, state_dims, N=30):\n",
    "    results = defaultdict(dict)\n",
    "    for _ in range(10):\n",
    "        for n in state_dims:\n",
    "            data = generate_kalman_dataset(n, N=N, seed=42 + n)\n",
    "\n",
    "            # --- gradients symboliques ---\n",
    "            t0 = perf_counter()\n",
    "            grad_list = pt.grad(loss, [a0_sym])\n",
    "            t1 = perf_counter()\n",
    "            grad_symbolic_time = t1 - t0\n",
    "            results[n][\"grad_symbolic_time\"] = grad_symbolic_time/10\n",
    "\n",
    "            # --- compilation ---\n",
    "            t0 = perf_counter()\n",
    "            f_grad = pytensor.function(\n",
    "                inputs=[data_sym, a0_sym, P0_sym, T_sym, Z_sym, H_sym, Q_sym],\n",
    "                outputs=grad_list,\n",
    "            )\n",
    "            t1 = perf_counter()\n",
    "            compile_time = t1 - t0\n",
    "            results[n][\"compile_time\"] = compile_time/10\n",
    "\n",
    "            # --- exécution ---\n",
    "            t0 = perf_counter()\n",
    "            _ = f_grad(\n",
    "                data[\"y\"],\n",
    "                data[\"A0\"],\n",
    "                data[\"P0\"],\n",
    "                data[\"T\"],\n",
    "                data[\"Z\"],\n",
    "                data[\"H\"],\n",
    "                data[\"Q\"],\n",
    "            )\n",
    "            t1 = perf_counter()\n",
    "            exec_time = t1 - t0\n",
    "            results[n][\"exec_time\"] = exec_time/10\n",
    "\n",
    "    return results"
   ]
  },
  {
   "cell_type": "code",
   "execution_count": 141,
   "id": "27a60fb3",
   "metadata": {},
   "outputs": [
    {
     "name": "stderr",
     "output_type": "stream",
     "text": [
      "c:\\Users\\jeanv\\miniconda3\\envs\\CausalPy\\Lib\\site-packages\\numpy\\linalg\\_linalg.py:2383: RuntimeWarning: overflow encountered in det\n",
      "  r = _umath_linalg.det(a, signature=signature)\n",
      "c:\\Users\\jeanv\\miniconda3\\envs\\CausalPy\\Lib\\site-packages\\numpy\\linalg\\_linalg.py:2383: RuntimeWarning: overflow encountered in det\n",
      "  r = _umath_linalg.det(a, signature=signature)\n",
      "c:\\Users\\jeanv\\miniconda3\\envs\\CausalPy\\Lib\\site-packages\\numpy\\linalg\\_linalg.py:2383: RuntimeWarning: overflow encountered in det\n",
      "  r = _umath_linalg.det(a, signature=signature)\n",
      "c:\\Users\\jeanv\\miniconda3\\envs\\CausalPy\\Lib\\site-packages\\numpy\\linalg\\_linalg.py:2383: RuntimeWarning: overflow encountered in det\n",
      "  r = _umath_linalg.det(a, signature=signature)\n",
      "c:\\Users\\jeanv\\miniconda3\\envs\\CausalPy\\Lib\\site-packages\\numpy\\linalg\\_linalg.py:2383: RuntimeWarning: overflow encountered in det\n",
      "  r = _umath_linalg.det(a, signature=signature)\n",
      "c:\\Users\\jeanv\\miniconda3\\envs\\CausalPy\\Lib\\site-packages\\numpy\\linalg\\_linalg.py:2383: RuntimeWarning: overflow encountered in det\n",
      "  r = _umath_linalg.det(a, signature=signature)\n",
      "c:\\Users\\jeanv\\miniconda3\\envs\\CausalPy\\Lib\\site-packages\\numpy\\linalg\\_linalg.py:2383: RuntimeWarning: overflow encountered in det\n",
      "  r = _umath_linalg.det(a, signature=signature)\n",
      "c:\\Users\\jeanv\\miniconda3\\envs\\CausalPy\\Lib\\site-packages\\numpy\\linalg\\_linalg.py:2383: RuntimeWarning: overflow encountered in det\n",
      "  r = _umath_linalg.det(a, signature=signature)\n",
      "c:\\Users\\jeanv\\miniconda3\\envs\\CausalPy\\Lib\\site-packages\\numpy\\linalg\\_linalg.py:2383: RuntimeWarning: overflow encountered in det\n",
      "  r = _umath_linalg.det(a, signature=signature)\n",
      "c:\\Users\\jeanv\\miniconda3\\envs\\CausalPy\\Lib\\site-packages\\numpy\\linalg\\_linalg.py:2383: RuntimeWarning: overflow encountered in det\n",
      "  r = _umath_linalg.det(a, signature=signature)\n"
     ]
    }
   ],
   "source": [
    "results = benchmark_kalman_gradients(loss, states, N=5)"
   ]
  },
  {
   "cell_type": "code",
   "execution_count": null,
   "id": "3f6d314a",
   "metadata": {},
   "outputs": [],
   "source": [
    "results_op = benchmark_kalman_gradients(loss_op, states, N=5)"
   ]
  },
  {
   "cell_type": "code",
   "execution_count": null,
   "id": "382e90ef",
   "metadata": {},
   "outputs": [
    {
     "data": {
      "text/plain": [
       "[<matplotlib.lines.Line2D at 0x182798bad50>]"
      ]
     },
     "execution_count": 123,
     "metadata": {},
     "output_type": "execute_result"
    },
    {
     "data": {
      "image/png": "[encoded data removed]",
      "text/plain": [
       "<Figure size 640x480 with 1 Axes>"
      ]
     },
     "metadata": {},
     "output_type": "display_data"
    }
   ],
   "source": [
    "tps_execution = [results[i][\"exec_time\"] for i in states]\n",
    "tps_execution_op = [results_op[i][\"exec_time\"] for i in states]\n",
    "plt.plot(states, tps_execution, color=\"C1\")\n",
    "plt.plot(states, tps_execution_op, color=\"limegreen\")\n"
   ]
  },
  {
   "cell_type": "markdown",
   "id": "287cb6ef",
   "metadata": {},
   "source": [
    "### Handmade Numpy Backpropagation "
   ]
  },
  {
   "cell_type": "code",
   "execution_count": 81,
   "id": "e1469fb0",
   "metadata": {},
   "outputs": [],
   "source": [
    "def compute_grad(observations, a0, P0, a_pred_seq, P_pred_seq, Z, H, T):\n",
    "    # Constant\n",
    "    SHAPE_a0 = a0.shape[0]\n",
    "    NB_obs = len(observations)\n",
    "\n",
    "    # Initialisation for the backprop\n",
    "    PZT = P_pred_seq[-2].dot(Z.T)\n",
    "    F = Z.dot(PZT) + H\n",
    "    F_inv = np.linalg.solve(F, np.eye(F.shape[0]))\n",
    "    \n",
    "    grad = [0 for _ in range(NB_obs)]\n",
    "    grad[-1] = - 2 * Z.T @ F_inv @ (observations[-1] - Z @ a_pred_seq[-2])\n",
    "\n",
    "    # Backprop\n",
    "    for i in range(3, NB_obs+1):\n",
    "\n",
    "        PZT = P_pred_seq[-i].dot(Z.T)\n",
    "        F = Z.dot(PZT) + H\n",
    "        F_inv = np.linalg.solve(F, np.eye(F.shape[0]))\n",
    "\n",
    "        K = PZT.dot(F_inv)\n",
    "        I_KZ = np.eye(SHAPE_a0) - K.dot(Z)\n",
    "\n",
    "        grad[1-i] = I_KZ.T @ T.T @ grad[2-i] - (2 * Z.T @ F_inv @ (observations[1-i] - Z @ a_pred_seq[-i])).T   \n",
    "\n",
    "    # Last iter with a0/P0\n",
    "    PZT = P0.dot(Z.T)\n",
    "    F = Z.dot(PZT) + H\n",
    "    F_inv = np.linalg.solve(F, np.eye(F.shape[0]))\n",
    "\n",
    "    K = PZT.dot(F_inv)\n",
    "    I_KZ = np.eye(SHAPE_a0) - K.dot(Z)\n",
    "\n",
    "    grad[0] = I_KZ.T @ T.T @ grad[1] - (2 * Z.T @ F_inv @ (observations[0] - Z @ a0)).T\n",
    "\n",
    "    return grad"
   ]
  },
  {
   "cell_type": "code",
   "execution_count": 108,
   "id": "479b8832",
   "metadata": {},
   "outputs": [],
   "source": [
    "def benchmark_kalman_gradients_np(loss, a_pred_seq, P_pred_seq, state_dims, N=3):\n",
    "    results = defaultdict(dict)\n",
    "    kalman_fn = pytensor.function(inputs=[data_sym, a0_sym, P0_sym, T_sym, Z_sym, H_sym, Q_sym],\n",
    "                                outputs=(a_pred_seq, P_pred_seq))\n",
    "    \n",
    "    for _ in range(10):\n",
    "        for n in state_dims:\n",
    "            data = generate_kalman_dataset(n, N=N, seed=42 + n)\n",
    "\n",
    "            # --- forward pass ---\n",
    "            t0 = perf_counter()\n",
    "            a_pred, P_pred = kalman_fn(data[\"y\"],\n",
    "                                        data[\"A0\"],\n",
    "                                        data[\"P0\"],\n",
    "                                        data[\"T\"],\n",
    "                                        data[\"Z\"],\n",
    "                                        data[\"H\"],\n",
    "                                        data[\"Q\"],)\n",
    "            t1 = perf_counter()\n",
    "            forward_pass = t1 - t0\n",
    "            results[n][\"Forward pass\"] = forward_pass/10\n",
    "\n",
    "            # --- Backprop ---\n",
    "            t0 = perf_counter()\n",
    "            grad = compute_grad(data[\"y\"],\n",
    "                    data[\"A0\"],\n",
    "                    data[\"P0\"],\n",
    "                    a_pred,\n",
    "                    P_pred,\n",
    "                    data[\"Z\"],\n",
    "                    data[\"H\"],\n",
    "                    data[\"T\"],)\n",
    "            t1 = perf_counter()\n",
    "            compile_time = t1 - t0\n",
    "            results[n][\"Backprop\"] = compile_time/10\n",
    "\n",
    "    return results"
   ]
  },
  {
   "cell_type": "code",
   "execution_count": 121,
   "id": "1e633e75",
   "metadata": {},
   "outputs": [],
   "source": [
    "results_np = benchmark_kalman_gradients_np(loss, a_pred_seq, P_pred_seq, states, N=30)"
   ]
  },
  {
   "cell_type": "code",
   "execution_count": 122,
   "id": "7109d7bf",
   "metadata": {},
   "outputs": [
    {
     "data": {
      "text/plain": [
       "[<matplotlib.lines.Line2D at 0x182004ffed0>]"
      ]
     },
     "execution_count": 122,
     "metadata": {},
     "output_type": "execute_result"
    },
    {
     "data": {
      "image/png": "[encoded data removed]",
      "text/plain": [
       "<Figure size 640x480 with 1 Axes>"
      ]
     },
     "metadata": {},
     "output_type": "display_data"
    }
   ],
   "source": [
    "tps_execution = [results[i][\"exec_time\"] for i in states]\n",
    "tps_execution_np = [results_np[i][\"Backprop\"] + results_np[i][\"Forward pass\"] for i in states]\n",
    "plt.plot(states, tps_execution, color=\"C1\")\n",
    "plt.plot(states, tps_execution_np, color=\"limegreen\")"
   ]
  },
  {
   "cell_type": "code",
   "execution_count": 124,
   "id": "f2dbe75f",
   "metadata": {},
   "outputs": [
    {
     "name": "stdout",
     "output_type": "stream",
     "text": [
      "0.0017101200064644217\n"
     ]
    }
   ],
   "source": [
    "print(results[20][\"exec_time\"])"
   ]
  },
  {
   "cell_type": "code",
   "execution_count": 126,
   "id": "614d5f94",
   "metadata": {},
   "outputs": [
    {
     "name": "stdout",
     "output_type": "stream",
     "text": [
      "0.00022822999162599444\n"
     ]
    }
   ],
   "source": [
    "print(results_np[20][\"Backprop\"] + results_np[20][\"Forward pass\"])"
   ]
  }
 ],
 "metadata": {
  "kernelspec": {
   "display_name": "CausalPy",
   "language": "python",
   "name": "python3"
  },
  "language_info": {
   "codemirror_mode": {
    "name": "ipython",
    "version": 3
   },
   "file_extension": ".py",
   "mimetype": "text/x-python",
   "name": "python",
   "nbconvert_exporter": "python",
   "pygments_lexer": "ipython3",
   "version": "3.13.3"
  }
 },
 "nbformat": 4,
 "nbformat_minor": 5
}
