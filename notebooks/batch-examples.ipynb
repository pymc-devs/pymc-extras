{
 "cells": [
  {
   "cell_type": "code",
   "execution_count": 1,
   "id": "0a5841d3",
   "metadata": {},
   "outputs": [],
   "source": [
    "import numpy as np\n",
    "import pytensor\n",
    "import pytensor.tensor as pt\n",
    "from pymc_extras.statespace.filters import StandardFilter\n",
    "from tests.statespace.utilities.test_helpers import make_test_inputs\n",
    "from pytensor.graph.replace import vectorize_graph\n",
    "from importlib import reload\n",
    "import pymc_extras.statespace.filters.distributions as pmss_dist\n",
    "from pymc_extras.statespace.filters.distributions import SequenceMvNormal\n",
    "import pymc as pm"
   ]
  },
  {
   "cell_type": "code",
   "execution_count": 2,
   "id": "14299e50",
   "metadata": {},
   "outputs": [],
   "source": [
    "seed = sum(map(ord, \"batched-kf\"))\n",
    "rng = np.random.default_rng(seed)"
   ]
  },
  {
   "cell_type": "code",
   "execution_count": 3,
   "id": "71bc513e",
   "metadata": {},
   "outputs": [],
   "source": [
    "def create_batch_inputs(batch_size, p=1, m=5, r=1, n=10, rng=rng):\n",
    "    \"\"\"\n",
    "    Create batched inputs for testing.\n",
    "\n",
    "    Parameters\n",
    "    ----------\n",
    "    batch_size : int\n",
    "        Number of batches to create\n",
    "    p : int\n",
    "        First dimension parameter\n",
    "    m : int\n",
    "        Second dimension parameter\n",
    "    r : int\n",
    "        Third dimension parameter\n",
    "    n : int\n",
    "        Fourth dimension parameter\n",
    "    rng : numpy.random.Generator\n",
    "        Random number generator\n",
    "\n",
    "    Returns\n",
    "    -------\n",
    "    list\n",
    "        List of stacked inputs for each batch\n",
    "    \"\"\"\n",
    "    # Create individual inputs for each batch\n",
    "    np_batch_inputs = []\n",
    "    for i in range(batch_size):\n",
    "        inputs = make_test_inputs(p, m, r, n, rng)\n",
    "        np_batch_inputs.append(inputs)\n",
    "\n",
    "    return [np.stack(x, axis=0) for x in zip(*np_batch_inputs)]"
   ]
  },
  {
   "cell_type": "code",
   "execution_count": 4,
   "id": "0c1824cf",
   "metadata": {},
   "outputs": [
    {
     "data": {
      "text/plain": [
       "(3, 10, 1)"
      ]
     },
     "execution_count": 4,
     "metadata": {},
     "output_type": "execute_result"
    }
   ],
   "source": [
    "# Create batch inputs with batch size 3\n",
    "np_batch_inputs = create_batch_inputs(3)\n",
    "np_batch_inputs[0].shape"
   ]
  },
  {
   "cell_type": "code",
   "execution_count": 5,
   "id": "773d4cb4",
   "metadata": {},
   "outputs": [],
   "source": [
    "p, m, r, n = 1, 5, 1, 10\n",
    "inputs = [pt.as_tensor(x).type() for x in make_test_inputs(p, m, r, n, rng)]"
   ]
  },
  {
   "cell_type": "code",
   "execution_count": 6,
   "id": "511de29f",
   "metadata": {},
   "outputs": [],
   "source": [
    "kf = StandardFilter()\n",
    "kf_outputs = kf.build_graph(*inputs)"
   ]
  },
  {
   "cell_type": "code",
   "execution_count": 7,
   "id": "33006d8e",
   "metadata": {},
   "outputs": [],
   "source": [
    "batched_inputs = [pt.tensor(shape=(None, *x.type.shape)) for x in inputs]\n",
    "vec_subs = dict(zip(inputs, batched_inputs))\n",
    "bacthed_kf_outputs = vectorize_graph(kf_outputs, vec_subs)"
   ]
  },
  {
   "cell_type": "code",
   "execution_count": 8,
   "id": "987a4647",
   "metadata": {},
   "outputs": [
    {
     "data": {
      "text/plain": [
       "[filtered_states,\n",
       " predicted_states,\n",
       " observed_states,\n",
       " filtered_covariances,\n",
       " predicted_covariances,\n",
       " observed_covariances,\n",
       " loglike_obs]"
      ]
     },
     "execution_count": 8,
     "metadata": {},
     "output_type": "execute_result"
    }
   ],
   "source": [
    "kf_outputs"
   ]
  },
  {
   "cell_type": "code",
   "execution_count": 9,
   "id": "4b8be0f9",
   "metadata": {},
   "outputs": [],
   "source": [
    "mu = bacthed_kf_outputs[1]\n",
    "cov = bacthed_kf_outputs[4]\n",
    "logp = bacthed_kf_outputs[-1]"
   ]
  },
  {
   "cell_type": "code",
   "execution_count": 10,
   "id": "1dc80f94",
   "metadata": {},
   "outputs": [
    {
     "data": {
      "text/plain": [
       "(None, 10, 5)"
      ]
     },
     "execution_count": 10,
     "metadata": {},
     "output_type": "execute_result"
    }
   ],
   "source": [
    "mu.type.shape"
   ]
  },
  {
   "cell_type": "code",
   "execution_count": 11,
   "id": "1262c7d4",
   "metadata": {},
   "outputs": [],
   "source": [
    "pmss_dist = reload(pmss_dist)"
   ]
  },
  {
   "cell_type": "code",
   "execution_count": 12,
   "id": "2dcd3958",
   "metadata": {},
   "outputs": [
    {
     "name": "stdout",
     "output_type": "stream",
     "text": [
      "mus_.type.shape: (None, 10, 5), covs_.type.shape: (None, 10, 5, 5)\n",
      "mus.type.shape: (10, None, 5), covs.type.shape: (10, None, 5, 5)\n",
      "mvn_seq.type.shape: (None, None, 5)\n",
      "mvn_seq.type.shape: (None, 10, 5)\n",
      "mvn_seq.type.shape: (None, 10, 5)\n",
      "mvn_seq.type.shape: (None, 10, 5)\n",
      "mus_.type.shape: (None, 10, 5), covs_.type.shape: (None, 10, 5, 5)\n",
      "mus.type.shape: (10, None, 5), covs.type.shape: (10, None, 5, 5)\n",
      "mvn_seq.type.shape: (None, None, 5)\n",
      "mvn_seq.type.shape: (None, 10, 5)\n",
      "mvn_seq.type.shape: (None, 10, 5)\n",
      "mvn_seq.type.shape: (None, 10, 5)\n"
     ]
    }
   ],
   "source": [
    "mv_outputs = pmss_dist.SequenceMvNormal.dist(mus=mu, covs=cov, logp=logp)"
   ]
  },
  {
   "cell_type": "code",
   "execution_count": 13,
   "id": "6f41344f",
   "metadata": {},
   "outputs": [],
   "source": [
    "np_batch_inputs = create_batch_inputs(3)"
   ]
  },
  {
   "cell_type": "code",
   "execution_count": 14,
   "id": "44905b8a",
   "metadata": {},
   "outputs": [],
   "source": [
    "np_batch_inputs[0] = rng.normal(size=(3, 10, 1))"
   ]
  },
  {
   "cell_type": "code",
   "execution_count": 15,
   "id": "34fe01b8",
   "metadata": {},
   "outputs": [
    {
     "data": {
      "text/plain": [
       "(3, 10, 5)"
      ]
     },
     "execution_count": 15,
     "metadata": {},
     "output_type": "execute_result"
    }
   ],
   "source": [
    "f_test = pytensor.function(batched_inputs, mv_outputs)\n",
    "f_test(*np_batch_inputs).shape"
   ]
  },
  {
   "cell_type": "code",
   "execution_count": 16,
   "id": "f37efe79",
   "metadata": {},
   "outputs": [
    {
     "name": "stdout",
     "output_type": "stream",
     "text": [
      "(None, 10, 1) (None, 10, 5) (None, 10, 5, 5)\n"
     ]
    }
   ],
   "source": [
    "f_mv = pytensor.function(batched_inputs, pm.logp(mv_outputs, batched_inputs[0]))"
   ]
  },
  {
   "cell_type": "code",
   "execution_count": 17,
   "id": "7b45de74",
   "metadata": {},
   "outputs": [
    {
     "data": {
      "text/plain": [
       "(3, 10)"
      ]
     },
     "execution_count": 17,
     "metadata": {},
     "output_type": "execute_result"
    }
   ],
   "source": [
    "f_mv(*np_batch_inputs).shape"
   ]
  },
  {
   "cell_type": "code",
   "execution_count": null,
   "id": "f14596aa",
   "metadata": {},
   "outputs": [],
   "source": []
  },
  {
   "cell_type": "code",
   "execution_count": 18,
   "id": "69519822",
   "metadata": {},
   "outputs": [],
   "source": [
    "f = pytensor.function(batched_inputs, bacthed_kf_outputs)"
   ]
  },
  {
   "cell_type": "code",
   "execution_count": 19,
   "id": "3f745449",
   "metadata": {},
   "outputs": [
    {
     "name": "stdout",
     "output_type": "stream",
     "text": [
      "675 μs ± 22.3 μs per loop (mean ± std. dev. of 7 runs, 1,000 loops each)\n",
      "1.64 ms ± 37.5 μs per loop (mean ± std. dev. of 7 runs, 1,000 loops each)\n",
      "5.28 ms ± 424 μs per loop (mean ± std. dev. of 7 runs, 100 loops each)\n"
     ]
    }
   ],
   "source": [
    "for s in [1, 3, 10]:\n",
    "    np_batch_inputs = create_batch_inputs(s)\n",
    "    %timeit outputs = f(*np_batch_inputs)"
   ]
  },
  {
   "cell_type": "code",
   "execution_count": 6,
   "id": "42366399",
   "metadata": {},
   "outputs": [],
   "source": [
    "from pymc_extras.statespace.filters.kalman_smoother import KalmanSmoother"
   ]
  },
  {
   "cell_type": "code",
   "execution_count": 7,
   "id": "d5fcadef",
   "metadata": {},
   "outputs": [],
   "source": [
    "def build_fk(data, a0, P0, c, d, T, Z, R, H, Q):\n",
    "    kf = StandardFilter()\n",
    "    kf_outputs = kf.build_graph(data, a0, P0, c, d, T, Z, R, H, Q)\n",
    "\n",
    "    ks = KalmanSmoother()\n",
    "    ks_outputs = ks.build_graph(T, R, Q, kf_outputs[0], kf_outputs[3])\n",
    "\n",
    "    return (*kf_outputs, *ks_outputs)"
   ]
  },
  {
   "cell_type": "code",
   "execution_count": 15,
   "id": "c479ff22",
   "metadata": {},
   "outputs": [],
   "source": [
    "signature = \"(t, o), (s), (s, s), (s), (o), (s, s), (o, s), (s, p), (o, o), (p, p) -> (t, s), (t, s), (t, o), (t, s, s), (t, s, s), (t, o, o), (t), (t, s), (t, s, s)\""
   ]
  },
  {
   "cell_type": "code",
   "execution_count": 17,
   "id": "d3a403e9",
   "metadata": {},
   "outputs": [
    {
     "name": "stdout",
     "output_type": "stream",
     "text": [
      "Join [id A]\n",
      " ├─ 0 [id B]\n",
      " ├─ Subtensor{::step} [id C]\n",
      " │  ├─ Subtensor{start:} [id D]\n",
      " │  │  ├─ Scan{kalman_smoother, while_loop=False, inplace=none}.0 [id E]\n",
      " │  │  │  ├─ Minimum [id F]\n",
      " │  │  │  │  ├─ Subtensor{i} [id G]\n",
      " │  │  │  │  │  ├─ Shape [id H]\n",
      " │  │  │  │  │  │  └─ Subtensor{::step} [id I]\n",
      " │  │  │  │  │  │     ├─ Subtensor{start:} [id J]\n",
      " │  │  │  │  │  │     │  ├─ Subtensor{:stop} [id K]\n",
      " │  │  │  │  │  │     │  │  ├─ SpecifyShape [id L] 'filtered_states'\n",
      " │  │  │  │  │  │     │  │  │  ├─ Scan{forward_kalman_pass, while_loop=False, inplace=none}.2 [id M]\n",
      " │  │  │  │  │  │     │  │  │  │  ├─ Subtensor{i} [id N]\n",
      " │  │  │  │  │  │     │  │  │  │  │  ├─ Shape [id O]\n",
      " │  │  │  │  │  │     │  │  │  │  │  │  └─ Subtensor{start:} [id P]\n",
      " │  │  │  │  │  │     │  │  │  │  │  │     ├─ <Matrix(float64, shape=(10, 1))> [id Q]\n",
      " │  │  │  │  │  │     │  │  │  │  │  │     └─ 0 [id R]\n",
      " │  │  │  │  │  │     │  │  │  │  │  └─ 0 [id S]\n",
      " │  │  │  │  │  │     │  │  │  │  ├─ Subtensor{:stop} [id T]\n",
      " │  │  │  │  │  │     │  │  │  │  │  ├─ Subtensor{start:} [id P]\n",
      " │  │  │  │  │  │     │  │  │  │  │  │  └─ ···\n",
      " │  │  │  │  │  │     │  │  │  │  │  └─ ScalarFromTensor [id U]\n",
      " │  │  │  │  │  │     │  │  │  │  │     └─ Subtensor{i} [id N]\n",
      " │  │  │  │  │  │     │  │  │  │  │        └─ ···\n",
      " │  │  │  │  │  │     │  │  │  │  ├─ SetSubtensor{:stop} [id V]\n",
      " │  │  │  │  │  │     │  │  │  │  │  ├─ AllocEmpty{dtype='float64'} [id W]\n",
      " │  │  │  │  │  │     │  │  │  │  │  │  ├─ Add [id X]\n",
      " │  │  │  │  │  │     │  │  │  │  │  │  │  ├─ Subtensor{i} [id N]\n",
      " │  │  │  │  │  │     │  │  │  │  │  │  │  │  └─ ···\n",
      " │  │  │  │  │  │     │  │  │  │  │  │  │  └─ Subtensor{i} [id Y]\n",
      " │  │  │  │  │  │     │  │  │  │  │  │  │     ├─ Shape [id Z]\n",
      " │  │  │  │  │  │     │  │  │  │  │  │  │     │  └─ ExpandDims{axis=0} [id BA]\n",
      " │  │  │  │  │  │     │  │  │  │  │  │  │     │     └─ <Vector(float64, shape=(5,))> [id BB]\n",
      " │  │  │  │  │  │     │  │  │  │  │  │  │     └─ 0 [id BC]\n",
      " │  │  │  │  │  │     │  │  │  │  │  │  └─ Subtensor{i} [id BD]\n",
      " │  │  │  │  │  │     │  │  │  │  │  │     ├─ Shape [id Z]\n",
      " │  │  │  │  │  │     │  │  │  │  │  │     │  └─ ···\n",
      " │  │  │  │  │  │     │  │  │  │  │  │     └─ 1 [id BE]\n",
      " │  │  │  │  │  │     │  │  │  │  │  ├─ ExpandDims{axis=0} [id BA]\n",
      " │  │  │  │  │  │     │  │  │  │  │  │  └─ ···\n",
      " │  │  │  │  │  │     │  │  │  │  │  └─ ScalarFromTensor [id BF]\n",
      " │  │  │  │  │  │     │  │  │  │  │     └─ Subtensor{i} [id Y]\n",
      " │  │  │  │  │  │     │  │  │  │  │        └─ ···\n",
      " │  │  │  │  │  │     │  │  │  │  ├─ SetSubtensor{:stop} [id BG]\n",
      " │  │  │  │  │  │     │  │  │  │  │  ├─ AllocEmpty{dtype='float64'} [id BH]\n",
      " │  │  │  │  │  │     │  │  │  │  │  │  ├─ Add [id BI]\n",
      " │  │  │  │  │  │     │  │  │  │  │  │  │  ├─ Subtensor{i} [id N]\n",
      " │  │  │  │  │  │     │  │  │  │  │  │  │  │  └─ ···\n",
      " │  │  │  │  │  │     │  │  │  │  │  │  │  └─ Subtensor{i} [id BJ]\n",
      " │  │  │  │  │  │     │  │  │  │  │  │  │     ├─ Shape [id BK]\n",
      " │  │  │  │  │  │     │  │  │  │  │  │  │     │  └─ ExpandDims{axis=0} [id BL]\n",
      " │  │  │  │  │  │     │  │  │  │  │  │  │     │     └─ <Matrix(float64, shape=(5, 5))> [id BM]\n",
      " │  │  │  │  │  │     │  │  │  │  │  │  │     └─ 0 [id BN]\n",
      " │  │  │  │  │  │     │  │  │  │  │  │  ├─ Subtensor{i} [id BO]\n",
      " │  │  │  │  │  │     │  │  │  │  │  │  │  ├─ Shape [id BK]\n",
      " │  │  │  │  │  │     │  │  │  │  │  │  │  │  └─ ···\n",
      " │  │  │  │  │  │     │  │  │  │  │  │  │  └─ 1 [id BP]\n",
      " │  │  │  │  │  │     │  │  │  │  │  │  └─ Subtensor{i} [id BQ]\n",
      " │  │  │  │  │  │     │  │  │  │  │  │     ├─ Shape [id BK]\n",
      " │  │  │  │  │  │     │  │  │  │  │  │     │  └─ ···\n",
      " │  │  │  │  │  │     │  │  │  │  │  │     └─ 2 [id BR]\n",
      " │  │  │  │  │  │     │  │  │  │  │  ├─ ExpandDims{axis=0} [id BL]\n",
      " │  │  │  │  │  │     │  │  │  │  │  │  └─ ···\n",
      " │  │  │  │  │  │     │  │  │  │  │  └─ ScalarFromTensor [id BS]\n",
      " │  │  │  │  │  │     │  │  │  │  │     └─ Subtensor{i} [id BJ]\n",
      " │  │  │  │  │  │     │  │  │  │  │        └─ ···\n",
      " │  │  │  │  │  │     │  │  │  │  ├─ Subtensor{i} [id N]\n",
      " │  │  │  │  │  │     │  │  │  │  │  └─ ···\n",
      " │  │  │  │  │  │     │  │  │  │  ├─ Subtensor{i} [id N]\n",
      " │  │  │  │  │  │     │  │  │  │  │  └─ ···\n",
      " │  │  │  │  │  │     │  │  │  │  ├─ Subtensor{i} [id N]\n",
      " │  │  │  │  │  │     │  │  │  │  │  └─ ···\n",
      " │  │  │  │  │  │     │  │  │  │  ├─ Subtensor{i} [id N]\n",
      " │  │  │  │  │  │     │  │  │  │  │  └─ ···\n",
      " │  │  │  │  │  │     │  │  │  │  ├─ Subtensor{i} [id N]\n",
      " │  │  │  │  │  │     │  │  │  │  │  └─ ···\n",
      " │  │  │  │  │  │     │  │  │  │  ├─ <Vector(float64, shape=(5,))> [id BT]\n",
      " │  │  │  │  │  │     │  │  │  │  ├─ <Vector(float64, shape=(1,))> [id BU]\n",
      " │  │  │  │  │  │     │  │  │  │  ├─ <Matrix(float64, shape=(5, 5))> [id BV]\n",
      " │  │  │  │  │  │     │  │  │  │  ├─ <Matrix(float64, shape=(1, 5))> [id BW]\n",
      " │  │  │  │  │  │     │  │  │  │  ├─ <Matrix(float64, shape=(5, 1))> [id BX]\n",
      " │  │  │  │  │  │     │  │  │  │  ├─ <Matrix(float64, shape=(1, 1))> [id BY]\n",
      " │  │  │  │  │  │     │  │  │  │  └─ <Matrix(float64, shape=(1, 1))> [id BZ]\n",
      " │  │  │  │  │  │     │  │  │  ├─ 10 [id CA]\n",
      " │  │  │  │  │  │     │  │  │  └─ 5 [id CB]\n",
      " │  │  │  │  │  │     │  │  └─ -1 [id CC]\n",
      " │  │  │  │  │  │     │  └─ 0 [id CD]\n",
      " │  │  │  │  │  │     └─ -1 [id CE]\n",
      " │  │  │  │  │  └─ 0 [id CF]\n",
      " │  │  │  │  └─ Subtensor{i} [id CG]\n",
      " │  │  │  │     ├─ Shape [id CH]\n",
      " │  │  │  │     │  └─ Subtensor{::step} [id CI]\n",
      " │  │  │  │     │     ├─ Subtensor{start:} [id CJ]\n",
      " │  │  │  │     │     │  ├─ Subtensor{:stop} [id CK]\n",
      " │  │  │  │     │     │  │  ├─ SpecifyShape [id CL] 'filtered_covariances'\n",
      " │  │  │  │     │     │  │  │  ├─ Scan{forward_kalman_pass, while_loop=False, inplace=none}.4 [id M]\n",
      " │  │  │  │     │     │  │  │  │  └─ ···\n",
      " │  │  │  │     │     │  │  │  ├─ 10 [id CM]\n",
      " │  │  │  │     │     │  │  │  ├─ 5 [id CN]\n",
      " │  │  │  │     │     │  │  │  └─ 5 [id CO]\n",
      " │  │  │  │     │     │  │  └─ -1 [id CP]\n",
      " │  │  │  │     │     │  └─ 0 [id CQ]\n",
      " │  │  │  │     │     └─ -1 [id CR]\n",
      " │  │  │  │     └─ 0 [id CS]\n",
      " │  │  │  ├─ Subtensor{:stop} [id CT]\n",
      " │  │  │  │  ├─ Subtensor{::step} [id I]\n",
      " │  │  │  │  │  └─ ···\n",
      " │  │  │  │  └─ ScalarFromTensor [id CU]\n",
      " │  │  │  │     └─ Minimum [id F]\n",
      " │  │  │  │        └─ ···\n",
      " │  │  │  ├─ Subtensor{:stop} [id CV]\n",
      " │  │  │  │  ├─ Subtensor{::step} [id CI]\n",
      " │  │  │  │  │  └─ ···\n",
      " │  │  │  │  └─ ScalarFromTensor [id CW]\n",
      " │  │  │  │     └─ Minimum [id F]\n",
      " │  │  │  │        └─ ···\n",
      " │  │  │  ├─ SetSubtensor{:stop} [id CX]\n",
      " │  │  │  │  ├─ AllocEmpty{dtype='float64'} [id CY]\n",
      " │  │  │  │  │  ├─ Add [id CZ]\n",
      " │  │  │  │  │  │  ├─ Minimum [id F]\n",
      " │  │  │  │  │  │  │  └─ ···\n",
      " │  │  │  │  │  │  └─ Subtensor{i} [id DA]\n",
      " │  │  │  │  │  │     ├─ Shape [id DB]\n",
      " │  │  │  │  │  │     │  └─ ExpandDims{axis=0} [id DC]\n",
      " │  │  │  │  │  │     │     └─ Subtensor{i} [id DD]\n",
      " │  │  │  │  │  │     │        ├─ SpecifyShape [id L] 'filtered_states'\n",
      " │  │  │  │  │  │     │        │  └─ ···\n",
      " │  │  │  │  │  │     │        └─ -1 [id DE]\n",
      " │  │  │  │  │  │     └─ 0 [id DF]\n",
      " │  │  │  │  │  └─ Subtensor{i} [id DG]\n",
      " │  │  │  │  │     ├─ Shape [id DB]\n",
      " │  │  │  │  │     │  └─ ···\n",
      " │  │  │  │  │     └─ 1 [id DH]\n",
      " │  │  │  │  ├─ ExpandDims{axis=0} [id DC]\n",
      " │  │  │  │  │  └─ ···\n",
      " │  │  │  │  └─ ScalarFromTensor [id DI]\n",
      " │  │  │  │     └─ Subtensor{i} [id DA]\n",
      " │  │  │  │        └─ ···\n",
      " │  │  │  ├─ SetSubtensor{:stop} [id DJ]\n",
      " │  │  │  │  ├─ AllocEmpty{dtype='float64'} [id DK]\n",
      " │  │  │  │  │  ├─ Add [id DL]\n",
      " │  │  │  │  │  │  ├─ Minimum [id F]\n",
      " │  │  │  │  │  │  │  └─ ···\n",
      " │  │  │  │  │  │  └─ Subtensor{i} [id DM]\n",
      " │  │  │  │  │  │     ├─ Shape [id DN]\n",
      " │  │  │  │  │  │     │  └─ ExpandDims{axis=0} [id DO]\n",
      " │  │  │  │  │  │     │     └─ Subtensor{i} [id DP]\n",
      " │  │  │  │  │  │     │        ├─ SpecifyShape [id CL] 'filtered_covariances'\n",
      " │  │  │  │  │  │     │        │  └─ ···\n",
      " │  │  │  │  │  │     │        └─ -1 [id DQ]\n",
      " │  │  │  │  │  │     └─ 0 [id DR]\n",
      " │  │  │  │  │  ├─ Subtensor{i} [id DS]\n",
      " │  │  │  │  │  │  ├─ Shape [id DN]\n",
      " │  │  │  │  │  │  │  └─ ···\n",
      " │  │  │  │  │  │  └─ 1 [id DT]\n",
      " │  │  │  │  │  └─ Subtensor{i} [id DU]\n",
      " │  │  │  │  │     ├─ Shape [id DN]\n",
      " │  │  │  │  │     │  └─ ···\n",
      " │  │  │  │  │     └─ 2 [id DV]\n",
      " │  │  │  │  ├─ ExpandDims{axis=0} [id DO]\n",
      " │  │  │  │  │  └─ ···\n",
      " │  │  │  │  └─ ScalarFromTensor [id DW]\n",
      " │  │  │  │     └─ Subtensor{i} [id DM]\n",
      " │  │  │  │        └─ ···\n",
      " │  │  │  ├─ <Matrix(float64, shape=(5, 5))> [id BV]\n",
      " │  │  │  ├─ <Matrix(float64, shape=(5, 1))> [id BX]\n",
      " │  │  │  └─ <Matrix(float64, shape=(1, 1))> [id BZ]\n",
      " │  │  └─ 1 [id DX]\n",
      " │  └─ -1 [id DY]\n",
      " └─ ExpandDims{axis=0} [id DZ]\n",
      "    └─ Subtensor{i} [id DD]\n",
      "       └─ ···\n",
      "\n",
      "Inner graphs:\n",
      "\n",
      "Scan{kalman_smoother, while_loop=False, inplace=none} [id E]\n",
      " ← Add [id EA]\n",
      "    ├─ *0-<Vector(float64, shape=(5,))> [id EB] -> [id CT]\n",
      "    └─ Squeeze{axis=1} [id EC]\n",
      "       └─ Blockwise{dot, (m,k),(k,n)->(m,n)} [id ED]\n",
      "          ├─ Transpose{axes=[1, 0]} [id EE]\n",
      "          │  └─ dot [id EF]\n",
      "          │     ├─ dot [id EG]\n",
      "          │     │  ├─ Blockwise{MatrixPinv{hermitian=False}, (m,n)->(n,m)} [id EH]\n",
      "          │     │  │  └─ Add [id EI]\n",
      "          │     │  │     ├─ Add [id EJ]\n",
      "          │     │  │     │  ├─ Mul [id EK]\n",
      "          │     │  │     │  │  ├─ ExpandDims{axes=[0, 1]} [id EL]\n",
      "          │     │  │     │  │  │  └─ 0.5 [id EM]\n",
      "          │     │  │     │  │  └─ Add [id EN]\n",
      "          │     │  │     │  │     ├─ dot [id EO]\n",
      "          │     │  │     │  │     │  ├─ dot [id EP]\n",
      "          │     │  │     │  │     │  │  ├─ *4-<Matrix(float64, shape=(5, 5))> [id EQ] -> [id BV]\n",
      "          │     │  │     │  │     │  │  └─ *1-<Matrix(float64, shape=(5, 5))> [id ER] -> [id CV]\n",
      "          │     │  │     │  │     │  └─ Transpose{axes=[1, 0]} [id ES]\n",
      "          │     │  │     │  │     │     └─ *4-<Matrix(float64, shape=(5, 5))> [id EQ] -> [id BV]\n",
      "          │     │  │     │  │     └─ Transpose{axes=[1, 0]} [id ET]\n",
      "          │     │  │     │  │        └─ dot [id EO]\n",
      "          │     │  │     │  │           └─ ···\n",
      "          │     │  │     │  └─ Mul [id EU]\n",
      "          │     │  │     │     ├─ ExpandDims{axes=[0, 1]} [id EV]\n",
      "          │     │  │     │     │  └─ 0.5 [id EW]\n",
      "          │     │  │     │     └─ Add [id EX]\n",
      "          │     │  │     │        ├─ dot [id EY]\n",
      "          │     │  │     │        │  ├─ dot [id EZ]\n",
      "          │     │  │     │        │  │  ├─ *5-<Matrix(float64, shape=(5, 1))> [id FA] -> [id BX]\n",
      "          │     │  │     │        │  │  └─ *6-<Matrix(float64, shape=(1, 1))> [id FB] -> [id BZ]\n",
      "          │     │  │     │        │  └─ Transpose{axes=[1, 0]} [id FC]\n",
      "          │     │  │     │        │     └─ *5-<Matrix(float64, shape=(5, 1))> [id FA] -> [id BX]\n",
      "          │     │  │     │        └─ Transpose{axes=[1, 0]} [id FD]\n",
      "          │     │  │     │           └─ dot [id EY]\n",
      "          │     │  │     │              └─ ···\n",
      "          │     │  │     └─ Mul [id FE]\n",
      "          │     │  │        ├─ Eye{dtype='float64'} [id FF]\n",
      "          │     │  │        │  ├─ Subtensor{i} [id FG]\n",
      "          │     │  │        │  │  ├─ Shape [id FH]\n",
      "          │     │  │        │  │  │  └─ Add [id EJ]\n",
      "          │     │  │        │  │  │     └─ ···\n",
      "          │     │  │        │  │  └─ 0 [id FI]\n",
      "          │     │  │        │  ├─ Subtensor{i} [id FJ]\n",
      "          │     │  │        │  │  ├─ Shape [id FK]\n",
      "          │     │  │        │  │  │  └─ Add [id EJ]\n",
      "          │     │  │        │  │  │     └─ ···\n",
      "          │     │  │        │  │  └─ 1 [id FL]\n",
      "          │     │  │        │  └─ 0 [id FM]\n",
      "          │     │  │        └─ ExpandDims{axes=[0, 1]} [id FN]\n",
      "          │     │  │           └─ 1e-08 [id FO]\n",
      "          │     │  └─ *4-<Matrix(float64, shape=(5, 5))> [id EQ] -> [id BV]\n",
      "          │     └─ *1-<Matrix(float64, shape=(5, 5))> [id ER] -> [id CV]\n",
      "          └─ ExpandDims{axis=1} [id FP]\n",
      "             └─ Sub [id FQ]\n",
      "                ├─ *2-<Vector(float64, shape=(5,))> [id FR] -> [id CX]\n",
      "                └─ dot [id FS]\n",
      "                   ├─ *4-<Matrix(float64, shape=(5, 5))> [id EQ] -> [id BV]\n",
      "                   └─ *0-<Vector(float64, shape=(5,))> [id EB] -> [id CT]\n",
      " ← Add [id FT]\n",
      "    ├─ Add [id FU]\n",
      "    │  ├─ Add [id FV]\n",
      "    │  │  ├─ *1-<Matrix(float64, shape=(5, 5))> [id ER] -> [id CV]\n",
      "    │  │  └─ Mul [id FW]\n",
      "    │  │     ├─ ExpandDims{axes=[0, 1]} [id FX]\n",
      "    │  │     │  └─ 0.5 [id FY]\n",
      "    │  │     └─ Add [id FZ]\n",
      "    │  │        ├─ dot [id GA]\n",
      "    │  │        │  ├─ dot [id GB]\n",
      "    │  │        │  │  ├─ Transpose{axes=[1, 0]} [id EE]\n",
      "    │  │        │  │  │  └─ ···\n",
      "    │  │        │  │  └─ Sub [id GC]\n",
      "    │  │        │  │     ├─ *3-<Matrix(float64, shape=(5, 5))> [id GD] -> [id DJ]\n",
      "    │  │        │  │     └─ Add [id EI]\n",
      "    │  │        │  │        └─ ···\n",
      "    │  │        │  └─ Transpose{axes=[1, 0]} [id GE]\n",
      "    │  │        │     └─ Transpose{axes=[1, 0]} [id EE]\n",
      "    │  │        │        └─ ···\n",
      "    │  │        └─ Transpose{axes=[1, 0]} [id GF]\n",
      "    │  │           └─ dot [id GA]\n",
      "    │  │              └─ ···\n",
      "    │  └─ Mul [id GG]\n",
      "    │     ├─ Eye{dtype='float64'} [id GH]\n",
      "    │     │  ├─ Subtensor{i} [id GI]\n",
      "    │     │  │  ├─ Shape [id GJ]\n",
      "    │     │  │  │  └─ Add [id FV]\n",
      "    │     │  │  │     └─ ···\n",
      "    │     │  │  └─ 0 [id GK]\n",
      "    │     │  ├─ Subtensor{i} [id GL]\n",
      "    │     │  │  ├─ Shape [id GM]\n",
      "    │     │  │  │  └─ Add [id FV]\n",
      "    │     │  │  │     └─ ···\n",
      "    │     │  │  └─ 1 [id GN]\n",
      "    │     │  └─ 0 [id GO]\n",
      "    │     └─ ExpandDims{axes=[0, 1]} [id GP]\n",
      "    │        └─ 1e-08 [id GQ]\n",
      "    └─ Mul [id GR]\n",
      "       ├─ Eye{dtype='float64'} [id GS]\n",
      "       │  ├─ Subtensor{i} [id GT]\n",
      "       │  │  ├─ Shape [id GU]\n",
      "       │  │  │  └─ Add [id FU]\n",
      "       │  │  │     └─ ···\n",
      "       │  │  └─ 0 [id GV]\n",
      "       │  ├─ Subtensor{i} [id GW]\n",
      "       │  │  ├─ Shape [id GX]\n",
      "       │  │  │  └─ Add [id FU]\n",
      "       │  │  │     └─ ···\n",
      "       │  │  └─ 1 [id GY]\n",
      "       │  └─ 0 [id GZ]\n",
      "       └─ ExpandDims{axes=[0, 1]} [id HA]\n",
      "          └─ 1e-08 [id HB]\n",
      "\n",
      "Scan{forward_kalman_pass, while_loop=False, inplace=none} [id M]\n",
      " ← Add [id HC]\n",
      "    ├─ dot [id HD]\n",
      "    │  ├─ *5-<Matrix(float64, shape=(5, 5))> [id HE] -> [id BV]\n",
      "    │  └─ Add [id HF]\n",
      "    │     ├─ *1-<Vector(float64, shape=(5,))> [id HG] -> [id V]\n",
      "    │     └─ dot [id HH]\n",
      "    │        ├─ Transpose{axes=[1, 0]} [id HI]\n",
      "    │        │  └─ Blockwise{Solve{assume_a='pos', lower=False, check_finite=False, b_ndim=2, overwrite_a=False, overwrite_b=False}, (m,m),(m,n)->(m,n)} [id HJ]\n",
      "    │        │     ├─ Transpose{axes=[1, 0]} [id HK]\n",
      "    │        │     │  └─ Add [id HL]\n",
      "    │        │     │     ├─ dot [id HM]\n",
      "    │        │     │     │  ├─ dot [id HN]\n",
      "    │        │     │     │  │  ├─ AllocDiag{self.axis1=0, self.axis2=1, self.offset=0} [id HO]\n",
      "    │        │     │     │  │  │  └─ Cast{float64} [id HP]\n",
      "    │        │     │     │  │  │     └─ Invert [id HQ]\n",
      "    │        │     │     │  │  │        └─ Or [id HR]\n",
      "    │        │     │     │  │  │           ├─ Isnan [id HS]\n",
      "    │        │     │     │  │  │           │  └─ *0-<Vector(float64, shape=(1,))> [id HT] -> [id T]\n",
      "    │        │     │     │  │  │           └─ Eq [id HU]\n",
      "    │        │     │     │  │  │              ├─ *0-<Vector(float64, shape=(1,))> [id HT] -> [id T]\n",
      "    │        │     │     │  │  │              └─ ExpandDims{axis=0} [id HV]\n",
      "    │        │     │     │  │  │                 └─ -9999.0 [id HW]\n",
      "    │        │     │     │  │  └─ *6-<Matrix(float64, shape=(1, 5))> [id HX] -> [id BW]\n",
      "    │        │     │     │  └─ dot [id HY]\n",
      "    │        │     │     │     ├─ *2-<Matrix(float64, shape=(5, 5))> [id HZ] -> [id BG]\n",
      "    │        │     │     │     └─ Transpose{axes=[1, 0]} [id IA]\n",
      "    │        │     │     │        └─ dot [id HN]\n",
      "    │        │     │     │           └─ ···\n",
      "    │        │     │     └─ Add [id IB]\n",
      "    │        │     │        ├─ dot [id IC]\n",
      "    │        │     │        │  ├─ AllocDiag{self.axis1=0, self.axis2=1, self.offset=0} [id HO]\n",
      "    │        │     │        │  │  └─ ···\n",
      "    │        │     │        │  └─ *8-<Matrix(float64, shape=(1, 1))> [id ID] -> [id BY]\n",
      "    │        │     │        └─ Mul [id IE]\n",
      "    │        │     │           ├─ Eye{dtype='float64'} [id IF]\n",
      "    │        │     │           │  ├─ Subtensor{i} [id IG]\n",
      "    │        │     │           │  │  ├─ Shape [id IH]\n",
      "    │        │     │           │  │  │  └─ dot [id IC]\n",
      "    │        │     │           │  │  │     └─ ···\n",
      "    │        │     │           │  │  └─ 0 [id II]\n",
      "    │        │     │           │  ├─ Subtensor{i} [id IJ]\n",
      "    │        │     │           │  │  ├─ Shape [id IK]\n",
      "    │        │     │           │  │  │  └─ dot [id IC]\n",
      "    │        │     │           │  │  │     └─ ···\n",
      "    │        │     │           │  │  └─ 1 [id IL]\n",
      "    │        │     │           │  └─ 0 [id IM]\n",
      "    │        │     │           └─ ExpandDims{axes=[0, 1]} [id IN]\n",
      "    │        │     │              └─ 1e-08 [id IO]\n",
      "    │        │     └─ Transpose{axes=[1, 0]} [id IP]\n",
      "    │        │        └─ dot [id HY]\n",
      "    │        │           └─ ···\n",
      "    │        └─ Sub [id IQ]\n",
      "    │           ├─ AdvancedSetSubtensor [id IR]\n",
      "    │           │  ├─ *0-<Vector(float64, shape=(1,))> [id HT] -> [id T]\n",
      "    │           │  ├─ 0.0 [id IS]\n",
      "    │           │  └─ Or [id HR]\n",
      "    │           │     └─ ···\n",
      "    │           └─ Add [id IT]\n",
      "    │              ├─ *4-<Vector(float64, shape=(1,))> [id IU] -> [id BU]\n",
      "    │              └─ dot [id IV]\n",
      "    │                 ├─ dot [id HN]\n",
      "    │                 │  └─ ···\n",
      "    │                 └─ *1-<Vector(float64, shape=(5,))> [id HG] -> [id V]\n",
      "    └─ *3-<Vector(float64, shape=(5,))> [id IW] -> [id BT]\n",
      " ← Add [id IX]\n",
      "    ├─ Mul [id IY]\n",
      "    │  ├─ ExpandDims{axes=[0, 1]} [id IZ]\n",
      "    │  │  └─ 0.5 [id JA]\n",
      "    │  └─ Add [id JB]\n",
      "    │     ├─ dot [id JC]\n",
      "    │     │  ├─ dot [id JD]\n",
      "    │     │  │  ├─ *5-<Matrix(float64, shape=(5, 5))> [id HE] -> [id BV]\n",
      "    │     │  │  └─ Add [id JE]\n",
      "    │     │  │     ├─ Add [id JF]\n",
      "    │     │  │     │  ├─ Mul [id JG]\n",
      "    │     │  │     │  │  ├─ ExpandDims{axes=[0, 1]} [id JH]\n",
      "    │     │  │     │  │  │  └─ 0.5 [id JI]\n",
      "    │     │  │     │  │  └─ Add [id JJ]\n",
      "    │     │  │     │  │     ├─ dot [id JK]\n",
      "    │     │  │     │  │     │  ├─ dot [id JL]\n",
      "    │     │  │     │  │     │  │  ├─ Sub [id JM]\n",
      "    │     │  │     │  │     │  │  │  ├─ Eye{dtype='float64'} [id JN]\n",
      "    │     │  │     │  │     │  │  │  │  ├─ 5 [id JO]\n",
      "    │     │  │     │  │     │  │  │  │  ├─ 5 [id JP]\n",
      "    │     │  │     │  │     │  │  │  │  └─ 0 [id JQ]\n",
      "    │     │  │     │  │     │  │  │  └─ dot [id JR]\n",
      "    │     │  │     │  │     │  │  │     ├─ Transpose{axes=[1, 0]} [id HI]\n",
      "    │     │  │     │  │     │  │  │     │  └─ ···\n",
      "    │     │  │     │  │     │  │  │     └─ dot [id HN]\n",
      "    │     │  │     │  │     │  │  │        └─ ···\n",
      "    │     │  │     │  │     │  │  └─ *2-<Matrix(float64, shape=(5, 5))> [id HZ] -> [id BG]\n",
      "    │     │  │     │  │     │  └─ Transpose{axes=[1, 0]} [id JS]\n",
      "    │     │  │     │  │     │     └─ Sub [id JM]\n",
      "    │     │  │     │  │     │        └─ ···\n",
      "    │     │  │     │  │     └─ Transpose{axes=[1, 0]} [id JT]\n",
      "    │     │  │     │  │        └─ dot [id JK]\n",
      "    │     │  │     │  │           └─ ···\n",
      "    │     │  │     │  └─ Mul [id JU]\n",
      "    │     │  │     │     ├─ ExpandDims{axes=[0, 1]} [id JV]\n",
      "    │     │  │     │     │  └─ 0.5 [id JW]\n",
      "    │     │  │     │     └─ Add [id JX]\n",
      "    │     │  │     │        ├─ dot [id JY]\n",
      "    │     │  │     │        │  ├─ dot [id JZ]\n",
      "    │     │  │     │        │  │  ├─ Transpose{axes=[1, 0]} [id HI]\n",
      "    │     │  │     │        │  │  │  └─ ···\n",
      "    │     │  │     │        │  │  └─ dot [id IC]\n",
      "    │     │  │     │        │  │     └─ ···\n",
      "    │     │  │     │        │  └─ Transpose{axes=[1, 0]} [id KA]\n",
      "    │     │  │     │        │     └─ Transpose{axes=[1, 0]} [id HI]\n",
      "    │     │  │     │        │        └─ ···\n",
      "    │     │  │     │        └─ Transpose{axes=[1, 0]} [id KB]\n",
      "    │     │  │     │           └─ dot [id JY]\n",
      "    │     │  │     │              └─ ···\n",
      "    │     │  │     └─ Mul [id KC]\n",
      "    │     │  │        ├─ Eye{dtype='float64'} [id KD]\n",
      "    │     │  │        │  ├─ Subtensor{i} [id KE]\n",
      "    │     │  │        │  │  ├─ Shape [id KF]\n",
      "    │     │  │        │  │  │  └─ Add [id JF]\n",
      "    │     │  │        │  │  │     └─ ···\n",
      "    │     │  │        │  │  └─ 0 [id KG]\n",
      "    │     │  │        │  ├─ Subtensor{i} [id KH]\n",
      "    │     │  │        │  │  ├─ Shape [id KI]\n",
      "    │     │  │        │  │  │  └─ Add [id JF]\n",
      "    │     │  │        │  │  │     └─ ···\n",
      "    │     │  │        │  │  └─ 1 [id KJ]\n",
      "    │     │  │        │  └─ 0 [id KK]\n",
      "    │     │  │        └─ ExpandDims{axes=[0, 1]} [id KL]\n",
      "    │     │  │           └─ 1e-08 [id KM]\n",
      "    │     │  └─ Transpose{axes=[1, 0]} [id KN]\n",
      "    │     │     └─ *5-<Matrix(float64, shape=(5, 5))> [id HE] -> [id BV]\n",
      "    │     └─ Transpose{axes=[1, 0]} [id KO]\n",
      "    │        └─ dot [id JC]\n",
      "    │           └─ ···\n",
      "    └─ Mul [id KP]\n",
      "       ├─ ExpandDims{axes=[0, 1]} [id KQ]\n",
      "       │  └─ 0.5 [id KR]\n",
      "       └─ Add [id KS]\n",
      "          ├─ dot [id KT]\n",
      "          │  ├─ dot [id KU]\n",
      "          │  │  ├─ *7-<Matrix(float64, shape=(5, 1))> [id KV] -> [id BX]\n",
      "          │  │  └─ *9-<Matrix(float64, shape=(1, 1))> [id KW] -> [id BZ]\n",
      "          │  └─ Transpose{axes=[1, 0]} [id KX]\n",
      "          │     └─ *7-<Matrix(float64, shape=(5, 1))> [id KV] -> [id BX]\n",
      "          └─ Transpose{axes=[1, 0]} [id KY]\n",
      "             └─ dot [id KT]\n",
      "                └─ ···\n",
      " ← Add [id HF]\n",
      "    └─ ···\n",
      " ← Add [id IT]\n",
      "    └─ ···\n",
      " ← Add [id JE]\n",
      "    └─ ···\n",
      " ← Add [id HL]\n",
      "    └─ ···\n",
      " ← Switch [id KZ]\n",
      "    ├─ Cast{float64} [id LA]\n",
      "    │  └─ All{axes=None} [id LB]\n",
      "    │     └─ Or [id HR]\n",
      "    │        └─ ···\n",
      "    ├─ 0.0 [id LC]\n",
      "    └─ Mul [id LD]\n",
      "       ├─ -0.5 [id LE]\n",
      "       └─ Subtensor{i} [id LF]\n",
      "          ├─ Reshape{1} [id LG]\n",
      "          │  ├─ Add [id LH]\n",
      "          │  │  ├─ Add [id LI]\n",
      "          │  │  │  ├─ Log [id LJ]\n",
      "          │  │  │  │  └─ Mul [id LK]\n",
      "          │  │  │  │     ├─ 2 [id LL]\n",
      "          │  │  │  │     └─ 3.141592653589793 [id LM]\n",
      "          │  │  │  └─ Log [id LN]\n",
      "          │  │  │     └─ Blockwise{Det, (m,m)->()} [id LO]\n",
      "          │  │  │        └─ Add [id HL]\n",
      "          │  │  │           └─ ···\n",
      "          │  │  └─ dot [id LP]\n",
      "          │  │     ├─ Sub [id IQ]\n",
      "          │  │     │  └─ ···\n",
      "          │  │     └─ Blockwise{Solve{assume_a='pos', lower=False, check_finite=False, b_ndim=1, overwrite_a=False, overwrite_b=False}, (m,m),(m)->(m)} [id LQ]\n",
      "          │  │        ├─ Add [id HL]\n",
      "          │  │        │  └─ ···\n",
      "          │  │        └─ Sub [id IQ]\n",
      "          │  │           └─ ···\n",
      "          │  └─ [-1] [id LR]\n",
      "          └─ 0 [id LS]\n",
      "\n",
      "AllocDiag{self.axis1=0, self.axis2=1, self.offset=0} [id HO]\n",
      " ← AdvancedSetSubtensor [id LT]\n",
      "    ├─ Alloc [id LU]\n",
      "    │  ├─ 0.0 [id LV]\n",
      "    │  ├─ Add [id LW]\n",
      "    │  │  ├─ Subtensor{i} [id LX]\n",
      "    │  │  │  ├─ Shape [id LY]\n",
      "    │  │  │  │  └─ *0-<Vector(float64, shape=(1,))> [id HT]\n",
      "    │  │  │  └─ -1 [id LZ]\n",
      "    │  │  └─ 0 [id MA]\n",
      "    │  └─ Add [id LW]\n",
      "    │     └─ ···\n",
      "    ├─ *0-<Vector(float64, shape=(1,))> [id HT]\n",
      "    ├─ Add [id MB]\n",
      "    │  ├─ ARange{dtype='int64'} [id MC]\n",
      "    │  │  ├─ 0 [id MD]\n",
      "    │  │  ├─ Subtensor{i} [id ME]\n",
      "    │  │  │  ├─ Shape [id MF]\n",
      "    │  │  │  │  └─ *0-<Vector(float64, shape=(1,))> [id HT]\n",
      "    │  │  │  └─ -1 [id MG]\n",
      "    │  │  └─ 1 [id MH]\n",
      "    │  └─ ExpandDims{axis=0} [id MI]\n",
      "    │     └─ 0 [id MJ]\n",
      "    └─ Add [id MK]\n",
      "       ├─ ARange{dtype='int64'} [id MC]\n",
      "       │  └─ ···\n",
      "       └─ ExpandDims{axis=0} [id ML]\n",
      "          └─ 0 [id MM]\n"
     ]
    },
    {
     "data": {
      "text/plain": [
       "(3, 10, 5)"
      ]
     },
     "execution_count": 17,
     "metadata": {},
     "output_type": "execute_result"
    }
   ],
   "source": [
    "pt.vectorize(build_fk, signature=signature)(*[pt.as_tensor(x) for x in np_batch_inputs])[\n",
    "    0\n",
    "].eval().shape"
   ]
  },
  {
   "cell_type": "code",
   "execution_count": 15,
   "id": "a8c1a39f",
   "metadata": {},
   "outputs": [],
   "source": [
    "def make_signature(inputs, outputs):\n",
    "    states = \"s\"\n",
    "    obs = \"p\"\n",
    "    exog = \"r\"\n",
    "    time = \"t\"\n",
    "\n",
    "    matrix_to_shape = {\n",
    "        \"data\": (time, obs),\n",
    "        \"a0\": (states,),\n",
    "        \"P0\": (states, states),\n",
    "        \"c\": (states,),\n",
    "        \"d\": (obs,),\n",
    "        \"T\": (states, states),\n",
    "        \"Z\": (obs, states),\n",
    "        \"R\": (states, exog),\n",
    "        \"H\": (obs, obs),\n",
    "        \"Q\": (exog, exog),\n",
    "        \"filtered_states\": (time, states),\n",
    "        \"filtered_covariances\": (time, states, states),\n",
    "        \"predicted_states\": (time, states),\n",
    "        \"predicted_covariances\": (time, states, states),\n",
    "        \"observed_states\": (time, obs),\n",
    "        \"observed_covariances\": (time, obs, obs),\n",
    "        \"smoothed_states\": (time, states),\n",
    "        \"smoothed_covariances\": (time, states, states),\n",
    "        \"loglike_obs\": (time,),\n",
    "    }\n",
    "    input_shapes = []\n",
    "    output_shapes = []\n",
    "\n",
    "    for matrix in inputs:\n",
    "        name = matrix.name\n",
    "        input_shapes.append(matrix_to_shape[name])\n",
    "\n",
    "    for matrix in outputs:\n",
    "        print(matrix, matrix.name)\n",
    "        name = matrix.name\n",
    "        output_shapes.append(matrix_to_shape[name])\n",
    "\n",
    "    input_signature = \",\".join([\"(\" + \",\".join(shapes) + \")\" for shapes in input_shapes])\n",
    "    output_signature = \",\".join([\"(\" + \",\".join(shapes) + \")\" for shapes in output_shapes])\n",
    "\n",
    "    return f\"{input_signature} -> {output_signature}\""
   ]
  },
  {
   "cell_type": "code",
   "execution_count": 9,
   "id": "828ce742",
   "metadata": {},
   "outputs": [],
   "source": [
    "floatX = \"float64\"\n",
    "data = pt.tensor(name=\"data\", dtype=floatX, shape=(None, None))\n",
    "a0 = pt.vector(name=\"a0\", dtype=floatX)\n",
    "P0 = pt.matrix(name=\"P0\", dtype=floatX)\n",
    "c = pt.vector(name=\"c\", dtype=floatX)\n",
    "d = pt.vector(name=\"d\", dtype=floatX)\n",
    "Q = pt.tensor(name=\"Q\", dtype=floatX, shape=(None, None, None))\n",
    "H = pt.tensor(name=\"H\", dtype=floatX, shape=(None, None, None))\n",
    "T = pt.tensor(name=\"T\", dtype=floatX, shape=(None, None, None))\n",
    "R = pt.tensor(name=\"R\", dtype=floatX, shape=(None, None, None))\n",
    "Z = pt.tensor(name=\"Z\", dtype=floatX, shape=(None, None, None))\n",
    "\n",
    "inputs = [data, a0, P0, c, d, T, Z, R, H, Q]"
   ]
  },
  {
   "cell_type": "code",
   "execution_count": 10,
   "id": "52e105e3",
   "metadata": {},
   "outputs": [],
   "source": [
    "outputs = build_fk(*inputs)"
   ]
  },
  {
   "cell_type": "code",
   "execution_count": 16,
   "id": "9b5d94ab",
   "metadata": {},
   "outputs": [
    {
     "name": "stdout",
     "output_type": "stream",
     "text": [
      "filtered_states filtered_states\n",
      "predicted_states predicted_states\n",
      "observed_states observed_states\n",
      "filtered_covariances filtered_covariances\n",
      "predicted_covariances predicted_covariances\n",
      "observed_covariances observed_covariances\n",
      "loglike_obs loglike_obs\n",
      "smoothed_states smoothed_states\n",
      "smoothed_covariances smoothed_covariances\n"
     ]
    },
    {
     "data": {
      "text/plain": [
       "'(t,p),(s),(s,s),(s),(p),(s,s),(p,s),(s,r),(p,p),(r,r) -> (t,s),(t,s),(t,p),(t,s,s),(t,s,s),(t,p,p),(t),(t,s),(t,s,s)'"
      ]
     },
     "execution_count": 16,
     "metadata": {},
     "output_type": "execute_result"
    }
   ],
   "source": [
    "make_signature(inputs, outputs)"
   ]
  },
  {
   "cell_type": "code",
   "execution_count": null,
   "id": "ce8e287b",
   "metadata": {},
   "outputs": [],
   "source": [
    "signature = \"(t, o), (s), (s, s), (s), (o), (s, s), (o, s), (s, p), (o, o), (p, p) -> (t, s), (t, s), (t, o), (t, s, s), (t, s, s), (t, o, o), (t), (t, s), (t, s, s)\""
   ]
  },
  {
   "cell_type": "code",
   "execution_count": 18,
   "id": "8a2632bc",
   "metadata": {},
   "outputs": [
    {
     "name": "stdout",
     "output_type": "stream",
     "text": [
      "filtered_states filtered_states\n",
      "predicted_states predicted_states\n",
      "observed_states observed_states\n",
      "filtered_covariances filtered_covariances\n",
      "predicted_covariances predicted_covariances\n",
      "observed_covariances observed_covariances\n",
      "loglike_obs loglike_obs\n",
      "smoothed_states smoothed_states\n",
      "smoothed_covariances smoothed_covariances\n"
     ]
    },
    {
     "data": {
      "text/plain": [
       "(3, 10, 5)"
      ]
     },
     "execution_count": 18,
     "metadata": {},
     "output_type": "execute_result"
    }
   ],
   "source": [
    "pt.vectorize(build_fk, signature=make_signature(inputs, outputs))(\n",
    "    *[pt.as_tensor(x) for x in np_batch_inputs]\n",
    ")[0].eval().shape"
   ]
  },
  {
   "cell_type": "code",
   "execution_count": 19,
   "id": "bd771148",
   "metadata": {},
   "outputs": [],
   "source": [
    "kf = StandardFilter()\n",
    "ks = KalmanSmoother()"
   ]
  },
  {
   "cell_type": "code",
   "execution_count": 20,
   "id": "e523bf60",
   "metadata": {},
   "outputs": [
    {
     "name": "stdout",
     "output_type": "stream",
     "text": [
      "filtered_states filtered_states\n",
      "predicted_states predicted_states\n",
      "observed_states observed_states\n",
      "filtered_covariances filtered_covariances\n",
      "predicted_covariances predicted_covariances\n",
      "observed_covariances observed_covariances\n",
      "loglike_obs loglike_obs\n"
     ]
    }
   ],
   "source": [
    "kf_outputs = kf.build_graph(*inputs)\n",
    "kf_signature = make_signature(inputs, kf_outputs)"
   ]
  },
  {
   "cell_type": "code",
   "execution_count": 21,
   "id": "e651e683",
   "metadata": {},
   "outputs": [],
   "source": [
    "make_batched_kf = pt.vectorize(kf.build_graph, signature=kf_signature)\n",
    "ks_inputs = [T, R, Q, kf_outputs[0], kf_outputs[3]]\n",
    "ks_outputs = ks.build_graph(*ks_inputs)"
   ]
  },
  {
   "cell_type": "code",
   "execution_count": 22,
   "id": "272c49f5",
   "metadata": {},
   "outputs": [
    {
     "name": "stdout",
     "output_type": "stream",
     "text": [
      "smoothed_states smoothed_states\n",
      "smoothed_covariances smoothed_covariances\n"
     ]
    }
   ],
   "source": [
    "ks_signature = make_signature(ks_inputs, ks_outputs)\n",
    "make_batched_ks = pt.vectorize(ks.build_graph, signature=ks_signature)"
   ]
  },
  {
   "cell_type": "code",
   "execution_count": 25,
   "id": "0f9c8aa8",
   "metadata": {},
   "outputs": [],
   "source": [
    "batched_kf_outputs = make_batched_kf(*[pt.as_tensor(x) for x in np_batch_inputs])"
   ]
  },
  {
   "cell_type": "code",
   "execution_count": 26,
   "id": "32c57d14",
   "metadata": {},
   "outputs": [],
   "source": [
    "data, a0, P0, c, d, T, Z, R, H, Q = np_batch_inputs"
   ]
  },
  {
   "cell_type": "code",
   "execution_count": 30,
   "id": "9c7f5519",
   "metadata": {},
   "outputs": [],
   "source": [
    "batched_ks_outputs = make_batched_ks(\n",
    "    *[pt.as_tensor_variable(x) for x in [T, R, Q, batched_kf_outputs[0], batched_kf_outputs[3]]]\n",
    ")"
   ]
  },
  {
   "cell_type": "code",
   "execution_count": 31,
   "id": "875ea24a",
   "metadata": {},
   "outputs": [
    {
     "data": {
      "text/plain": [
       "(3, 10, 5)"
      ]
     },
     "execution_count": 31,
     "metadata": {},
     "output_type": "execute_result"
    }
   ],
   "source": [
    "batched_ks_outputs[0].eval().shape"
   ]
  },
  {
   "cell_type": "code",
   "execution_count": null,
   "id": "08329289",
   "metadata": {},
   "outputs": [],
   "source": []
  }
 ],
 "metadata": {
  "kernelspec": {
   "display_name": "pymc-extras-test",
   "language": "python",
   "name": "python3"
  },
  "language_info": {
   "codemirror_mode": {
    "name": "ipython",
    "version": 3
   },
   "file_extension": ".py",
   "mimetype": "text/x-python",
   "name": "python",
   "nbconvert_exporter": "python",
   "pygments_lexer": "ipython3",
   "version": "3.12.9"
  }
 },
 "nbformat": 4,
 "nbformat_minor": 5
}
